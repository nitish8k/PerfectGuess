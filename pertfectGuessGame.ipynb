{
 "cells": [
  {
   "cell_type": "code",
   "execution_count": 3,
   "metadata": {},
   "outputs": [
    {
     "name": "stdout",
     "output_type": "stream",
     "text": [
      "Enter your name rajat\n",
      "Enter your guess:50\n",
      "You Guessed it wrong! Enter a smaller number\n",
      "Enter your guess:30\n",
      "You Guessed it wrong! Enter a smaller number\n",
      "Enter your guess:10\n",
      "You Guessed it wrong! Enter a smaller number\n",
      "Enter your guess:5\n",
      "You Guessed it wrong! Enter a larger number\n",
      "Enter your guess:8\n",
      "You Guessed it wrong! Enter a smaller number\n",
      "Enter your guess:6\n",
      "You guessed it right! rajat\n",
      "You guessed the number in 6 guesses\n",
      "rajat have just broken the high score!\n"
     ]
    }
   ],
   "source": [
    "import random\n",
    "randNumber = random.randint(1, 100)\n",
    "userGuess = None\n",
    "guesses = 0\n",
    "\n",
    "u = input(\"Enter your name \")\n",
    "\n",
    "while(userGuess != randNumber):\n",
    "    userGuess = int(input(\"Enter your guess:\"))\n",
    "    guesses += 1\n",
    "    if(userGuess==randNumber):\n",
    "        print(f\"You guessed it right! {u}\")\n",
    "        \n",
    "    else:\n",
    "        if(userGuess>randNumber):\n",
    "            print(\"You Guessed it wrong! Enter a smaller number\")\n",
    "        else:\n",
    "            print(\"You Guessed it wrong! Enter a larger number\")\n",
    "            \n",
    "print(f\"You guessed the number in {guesses} guesses\")\n",
    "\n",
    "with open(\"sample.txt\", \"r\") as f:\n",
    "    sample = int(f.read())\n",
    "\n",
    "    \n",
    "if(guesses<sample):\n",
    "    print(f\"{u} have just broken the high score!\")\n",
    "    with open(\"sample.txt\", \"w\") as f:\n",
    "        f.write(f\"{u} have guessed {guesses}\")\n",
    "    \n",
    "            \n",
    "    "
   ]
  },
  {
   "cell_type": "code",
   "execution_count": null,
   "metadata": {},
   "outputs": [],
   "source": []
  },
  {
   "cell_type": "code",
   "execution_count": null,
   "metadata": {},
   "outputs": [],
   "source": []
  }
 ],
 "metadata": {
  "kernelspec": {
   "display_name": "Python 3",
   "language": "python",
   "name": "python3"
  },
  "language_info": {
   "codemirror_mode": {
    "name": "ipython",
    "version": 3
   },
   "file_extension": ".py",
   "mimetype": "text/x-python",
   "name": "python",
   "nbconvert_exporter": "python",
   "pygments_lexer": "ipython3",
   "version": "3.8.3"
  }
 },
 "nbformat": 4,
 "nbformat_minor": 4
}
